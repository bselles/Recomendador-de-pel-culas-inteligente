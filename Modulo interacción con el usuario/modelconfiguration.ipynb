{
 "cells": [
  {
   "cell_type": "code",
   "execution_count": 4,
   "metadata": {},
   "outputs": [],
   "source": [
    "'''\n",
    "    Configuración del modelo entrenado para la interacción con el usuario.\n",
    "    \n",
    "    Utiliza el framework NLU RASA para identificar la intención (\"intent\") del usuario\n",
    "    al introducir un texto.\n",
    "'''\n",
    "\n",
    "import rasa_nlu\n",
    "\n",
    "'''\n",
    "    Comando para entrenar el modelo usando nlu.md y nlu_config.yml:\n",
    "        \n",
    "    python -m rasa_nlu.train -c nlu_config.yml --data nlu.md -o models  --fixed_model_name nlu --project current --verbos\n",
    "'''\n",
    "\n",
    "model_intents = \"\"\"\n",
    "\n",
    "    ## intent: ask_for_general_info\n",
    "    - What can you tell me about [Avatar](movie)?\n",
    "    - Tell me info about [Avatar](movie).\n",
    "    - Which information do you have about [Avatar](movie)?\n",
    "    - Do you know anything about [Avatar](movie)?\n",
    "\n",
    "    ## intent: ask_for_a_plot\n",
    "    - Which is the plot of [Black Panther](movie)?\n",
    "    - And what about the plot of [Gladiator](movie)?\n",
    "    - Tell me something about the plot of [Her](movie).\n",
    "    - Is it good the plot of [12 angry man](movie). What about it?\n",
    "    - Could you sum to me what happens in [Batman](movie)?\n",
    "    - What happens in [Avatar](movie)?\n",
    "    \n",
    "    ## intent: ask_for_actors\n",
    "    - Who appears in [The Godfather](movie)?\n",
    "    - Who are the stars in [Casablanca](movie)?\n",
    "    - Tell me who appears in [Die Hard](movie)?\n",
    "    - Who's part of the cast of [Harry Potter](movie)?\n",
    "    - Tell me the cast of [Kingsman](movie).\n",
    "    \n",
    "    ## intent: ask_for_director\n",
    "    -Who has directed [El Padrino](movie)?\n",
    "    -Who's the director of [Avatar](movie)?\n",
    "    -And what about the director of [Avatar](movie)?\n",
    "    -Tell me who's the director of [Avatar](movie).\n",
    "    \n",
    "\"\"\"\n",
    "\n",
    "#Cuando pongamos un lenguaje, no poner el shortcut!!\n",
    "model_config = \"\"\"\n",
    "language: en_core_web_sm\n",
    "pipeline: tensorflow_embedding\n",
    "\"\"\""
   ]
  },
  {
   "cell_type": "code",
   "execution_count": 5,
   "metadata": {},
   "outputs": [
    {
     "name": "stdout",
     "output_type": "stream",
     "text": [
      "Writing 'model_intents' (str) to file 'nlu.md'.\n",
      "Writing 'model_config' (str) to file 'nlu_config.yml'.\n"
     ]
    }
   ],
   "source": [
    "%store model_intents > nlu.md\n",
    "\n",
    "%store model_config > nlu_config.yml"
   ]
  },
  {
   "cell_type": "code",
   "execution_count": null,
   "metadata": {},
   "outputs": [],
   "source": []
  }
 ],
 "metadata": {
  "kernelspec": {
   "display_name": "Python 3",
   "language": "python",
   "name": "python3"
  },
  "language_info": {
   "codemirror_mode": {
    "name": "ipython",
    "version": 3
   },
   "file_extension": ".py",
   "mimetype": "text/x-python",
   "name": "python",
   "nbconvert_exporter": "python",
   "pygments_lexer": "ipython3",
   "version": "3.7.0"
  }
 },
 "nbformat": 4,
 "nbformat_minor": 2
}
